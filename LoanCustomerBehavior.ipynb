{
 "cells": [
  {
   "cell_type": "markdown",
   "metadata": {},
   "source": [
    "# Loan Cutomer Behavior\n",
    "\n",
    "**Source:** Kaggle (https://www.kaggle.com/datasets/subhamjain/loan-prediction-based-on-customer-behavior)\n",
    "**Author of solution:** Ilan Grynszpan"
   ]
  },
  {
   "cell_type": "markdown",
   "metadata": {},
   "source": [
    "### Summary:\n",
    "\n",
    "1. Imports\n",
    "2. Read and summarize data\n",
    "3. Data cleaning\n",
    "4. Exploratory data analysis\n",
    "5. Modelling"
   ]
  },
  {
   "cell_type": "markdown",
   "metadata": {},
   "source": [
    "## Imports"
   ]
  },
  {
   "cell_type": "code",
   "execution_count": 112,
   "metadata": {},
   "outputs": [],
   "source": [
    "import pandas as pd\n",
    "import numpy as np\n",
    "\n",
    "## visuals\n",
    "import seaborn as sns\n",
    "import matplotlib.pyplot as plt\n",
    "\n",
    "## aux\n",
    "import os\n",
    "import warnings\n",
    "warnings.filterwarnings(\"ignore\")\n",
    "\n",
    "## statistics\n",
    "import scipy.stats as stats\n",
    "\n",
    "## ML\n",
    "from sklearn.model_selection import train_test_split\n",
    "from sklearn.feature_selection import SelectKBest\n",
    "from sklearn.feature_selection import f_classif"
   ]
  },
  {
   "cell_type": "markdown",
   "metadata": {},
   "source": [
    "## Read and summarize data"
   ]
  },
  {
   "cell_type": "code",
   "execution_count": 48,
   "metadata": {},
   "outputs": [
    {
     "name": "stdout",
     "output_type": "stream",
     "text": [
      "['Sample Prediction Dataset.csv', 'Test Data.csv', 'Training Data.csv']\n"
     ]
    }
   ],
   "source": [
    "BASE_DIR = \"data\"\n",
    "print(os.listdir(BASE_DIR))\n",
    "dataframes = [pd.read_csv(os.path.join(BASE_DIR, df)) for df in os.listdir(BASE_DIR)]"
   ]
  },
  {
   "cell_type": "code",
   "execution_count": 49,
   "metadata": {},
   "outputs": [],
   "source": [
    "train_data = dataframes[2]\n",
    "test_data = dataframes[1]"
   ]
  },
  {
   "cell_type": "markdown",
   "metadata": {},
   "source": [
    "### summarize and test for null values"
   ]
  },
  {
   "cell_type": "code",
   "execution_count": 50,
   "metadata": {},
   "outputs": [
    {
     "name": "stdout",
     "output_type": "stream",
     "text": [
      "<class 'pandas.core.frame.DataFrame'>\n",
      "RangeIndex: 252000 entries, 0 to 251999\n",
      "Data columns (total 13 columns):\n",
      " #   Column             Non-Null Count   Dtype \n",
      "---  ------             --------------   ----- \n",
      " 0   Id                 252000 non-null  int64 \n",
      " 1   Income             252000 non-null  int64 \n",
      " 2   Age                252000 non-null  int64 \n",
      " 3   Experience         252000 non-null  int64 \n",
      " 4   Married/Single     252000 non-null  object\n",
      " 5   House_Ownership    252000 non-null  object\n",
      " 6   Car_Ownership      252000 non-null  object\n",
      " 7   Profession         252000 non-null  object\n",
      " 8   CITY               252000 non-null  object\n",
      " 9   STATE              252000 non-null  object\n",
      " 10  CURRENT_JOB_YRS    252000 non-null  int64 \n",
      " 11  CURRENT_HOUSE_YRS  252000 non-null  int64 \n",
      " 12  Risk_Flag          252000 non-null  int64 \n",
      "dtypes: int64(7), object(6)\n",
      "memory usage: 25.0+ MB\n"
     ]
    }
   ],
   "source": [
    "train_data.info()"
   ]
  },
  {
   "cell_type": "code",
   "execution_count": 51,
   "metadata": {},
   "outputs": [
    {
     "data": {
      "text/plain": [
       "Id                   0\n",
       "Income               0\n",
       "Age                  0\n",
       "Experience           0\n",
       "Married/Single       0\n",
       "House_Ownership      0\n",
       "Car_Ownership        0\n",
       "Profession           0\n",
       "CITY                 0\n",
       "STATE                0\n",
       "CURRENT_JOB_YRS      0\n",
       "CURRENT_HOUSE_YRS    0\n",
       "Risk_Flag            0\n",
       "dtype: int64"
      ]
     },
     "execution_count": 51,
     "metadata": {},
     "output_type": "execute_result"
    }
   ],
   "source": [
    "train_data.isnull().sum()"
   ]
  },
  {
   "cell_type": "code",
   "execution_count": 52,
   "metadata": {},
   "outputs": [
    {
     "data": {
      "text/html": [
       "<div>\n",
       "<style scoped>\n",
       "    .dataframe tbody tr th:only-of-type {\n",
       "        vertical-align: middle;\n",
       "    }\n",
       "\n",
       "    .dataframe tbody tr th {\n",
       "        vertical-align: top;\n",
       "    }\n",
       "\n",
       "    .dataframe thead th {\n",
       "        text-align: right;\n",
       "    }\n",
       "</style>\n",
       "<table border=\"1\" class=\"dataframe\">\n",
       "  <thead>\n",
       "    <tr style=\"text-align: right;\">\n",
       "      <th></th>\n",
       "      <th>Id</th>\n",
       "      <th>Income</th>\n",
       "      <th>Age</th>\n",
       "      <th>Experience</th>\n",
       "      <th>CURRENT_JOB_YRS</th>\n",
       "      <th>CURRENT_HOUSE_YRS</th>\n",
       "      <th>Risk_Flag</th>\n",
       "    </tr>\n",
       "  </thead>\n",
       "  <tbody>\n",
       "    <tr>\n",
       "      <th>count</th>\n",
       "      <td>252000.000000</td>\n",
       "      <td>2.520000e+05</td>\n",
       "      <td>252000.000000</td>\n",
       "      <td>252000.000000</td>\n",
       "      <td>252000.000000</td>\n",
       "      <td>252000.000000</td>\n",
       "      <td>252000.000000</td>\n",
       "    </tr>\n",
       "    <tr>\n",
       "      <th>mean</th>\n",
       "      <td>126000.500000</td>\n",
       "      <td>4.997117e+06</td>\n",
       "      <td>49.954071</td>\n",
       "      <td>10.084437</td>\n",
       "      <td>6.333877</td>\n",
       "      <td>11.997794</td>\n",
       "      <td>0.123000</td>\n",
       "    </tr>\n",
       "    <tr>\n",
       "      <th>std</th>\n",
       "      <td>72746.278255</td>\n",
       "      <td>2.878311e+06</td>\n",
       "      <td>17.063855</td>\n",
       "      <td>6.002590</td>\n",
       "      <td>3.647053</td>\n",
       "      <td>1.399037</td>\n",
       "      <td>0.328438</td>\n",
       "    </tr>\n",
       "    <tr>\n",
       "      <th>min</th>\n",
       "      <td>1.000000</td>\n",
       "      <td>1.031000e+04</td>\n",
       "      <td>21.000000</td>\n",
       "      <td>0.000000</td>\n",
       "      <td>0.000000</td>\n",
       "      <td>10.000000</td>\n",
       "      <td>0.000000</td>\n",
       "    </tr>\n",
       "    <tr>\n",
       "      <th>25%</th>\n",
       "      <td>63000.750000</td>\n",
       "      <td>2.503015e+06</td>\n",
       "      <td>35.000000</td>\n",
       "      <td>5.000000</td>\n",
       "      <td>3.000000</td>\n",
       "      <td>11.000000</td>\n",
       "      <td>0.000000</td>\n",
       "    </tr>\n",
       "    <tr>\n",
       "      <th>50%</th>\n",
       "      <td>126000.500000</td>\n",
       "      <td>5.000694e+06</td>\n",
       "      <td>50.000000</td>\n",
       "      <td>10.000000</td>\n",
       "      <td>6.000000</td>\n",
       "      <td>12.000000</td>\n",
       "      <td>0.000000</td>\n",
       "    </tr>\n",
       "    <tr>\n",
       "      <th>75%</th>\n",
       "      <td>189000.250000</td>\n",
       "      <td>7.477502e+06</td>\n",
       "      <td>65.000000</td>\n",
       "      <td>15.000000</td>\n",
       "      <td>9.000000</td>\n",
       "      <td>13.000000</td>\n",
       "      <td>0.000000</td>\n",
       "    </tr>\n",
       "    <tr>\n",
       "      <th>max</th>\n",
       "      <td>252000.000000</td>\n",
       "      <td>9.999938e+06</td>\n",
       "      <td>79.000000</td>\n",
       "      <td>20.000000</td>\n",
       "      <td>14.000000</td>\n",
       "      <td>14.000000</td>\n",
       "      <td>1.000000</td>\n",
       "    </tr>\n",
       "  </tbody>\n",
       "</table>\n",
       "</div>"
      ],
      "text/plain": [
       "                  Id        Income            Age     Experience  \\\n",
       "count  252000.000000  2.520000e+05  252000.000000  252000.000000   \n",
       "mean   126000.500000  4.997117e+06      49.954071      10.084437   \n",
       "std     72746.278255  2.878311e+06      17.063855       6.002590   \n",
       "min         1.000000  1.031000e+04      21.000000       0.000000   \n",
       "25%     63000.750000  2.503015e+06      35.000000       5.000000   \n",
       "50%    126000.500000  5.000694e+06      50.000000      10.000000   \n",
       "75%    189000.250000  7.477502e+06      65.000000      15.000000   \n",
       "max    252000.000000  9.999938e+06      79.000000      20.000000   \n",
       "\n",
       "       CURRENT_JOB_YRS  CURRENT_HOUSE_YRS      Risk_Flag  \n",
       "count    252000.000000      252000.000000  252000.000000  \n",
       "mean          6.333877          11.997794       0.123000  \n",
       "std           3.647053           1.399037       0.328438  \n",
       "min           0.000000          10.000000       0.000000  \n",
       "25%           3.000000          11.000000       0.000000  \n",
       "50%           6.000000          12.000000       0.000000  \n",
       "75%           9.000000          13.000000       0.000000  \n",
       "max          14.000000          14.000000       1.000000  "
      ]
     },
     "execution_count": 52,
     "metadata": {},
     "output_type": "execute_result"
    }
   ],
   "source": [
    "train_data.describe()"
   ]
  },
  {
   "cell_type": "markdown",
   "metadata": {},
   "source": [
    "We will just finally check for the possibility of duplicates in our ids and in our data as a general."
   ]
  },
  {
   "cell_type": "code",
   "execution_count": 53,
   "metadata": {},
   "outputs": [
    {
     "data": {
      "text/plain": [
       "0"
      ]
     },
     "execution_count": 53,
     "metadata": {},
     "output_type": "execute_result"
    }
   ],
   "source": [
    "all_cols_duplicated = train_data.duplicated().sum()\n",
    "all_cols_duplicated"
   ]
  },
  {
   "cell_type": "code",
   "execution_count": 54,
   "metadata": {},
   "outputs": [
    {
     "data": {
      "text/plain": [
       "0"
      ]
     },
     "execution_count": 54,
     "metadata": {},
     "output_type": "execute_result"
    }
   ],
   "source": [
    "duplicated_ids = train_data.Id.duplicated().sum()\n",
    "duplicated_ids"
   ]
  },
  {
   "cell_type": "markdown",
   "metadata": {},
   "source": [
    "There is no duplicated data that we will have to deal with."
   ]
  },
  {
   "cell_type": "markdown",
   "metadata": {},
   "source": [
    "Looks like there is no need for data cleaning"
   ]
  },
  {
   "cell_type": "markdown",
   "metadata": {},
   "source": [
    "### Exploratory data analysis"
   ]
  },
  {
   "cell_type": "markdown",
   "metadata": {},
   "source": [
    "Hypothesis 1: People who are between 30 and 60 have the lowest risk of defaulting."
   ]
  },
  {
   "cell_type": "code",
   "execution_count": 55,
   "metadata": {},
   "outputs": [],
   "source": [
    "H1 = train_data[['Age', 'Risk_Flag']]"
   ]
  },
  {
   "cell_type": "code",
   "execution_count": 56,
   "metadata": {},
   "outputs": [
    {
     "data": {
      "text/html": [
       "<div>\n",
       "<style scoped>\n",
       "    .dataframe tbody tr th:only-of-type {\n",
       "        vertical-align: middle;\n",
       "    }\n",
       "\n",
       "    .dataframe tbody tr th {\n",
       "        vertical-align: top;\n",
       "    }\n",
       "\n",
       "    .dataframe thead th {\n",
       "        text-align: right;\n",
       "    }\n",
       "</style>\n",
       "<table border=\"1\" class=\"dataframe\">\n",
       "  <thead>\n",
       "    <tr style=\"text-align: right;\">\n",
       "      <th></th>\n",
       "      <th>Age</th>\n",
       "      <th>Risk_Flag</th>\n",
       "      <th>age_group</th>\n",
       "    </tr>\n",
       "  </thead>\n",
       "  <tbody>\n",
       "    <tr>\n",
       "      <th>0</th>\n",
       "      <td>23</td>\n",
       "      <td>0</td>\n",
       "      <td>20</td>\n",
       "    </tr>\n",
       "    <tr>\n",
       "      <th>1</th>\n",
       "      <td>40</td>\n",
       "      <td>0</td>\n",
       "      <td>40</td>\n",
       "    </tr>\n",
       "    <tr>\n",
       "      <th>2</th>\n",
       "      <td>66</td>\n",
       "      <td>0</td>\n",
       "      <td>60</td>\n",
       "    </tr>\n",
       "    <tr>\n",
       "      <th>3</th>\n",
       "      <td>41</td>\n",
       "      <td>1</td>\n",
       "      <td>40</td>\n",
       "    </tr>\n",
       "    <tr>\n",
       "      <th>4</th>\n",
       "      <td>47</td>\n",
       "      <td>1</td>\n",
       "      <td>40</td>\n",
       "    </tr>\n",
       "    <tr>\n",
       "      <th>...</th>\n",
       "      <td>...</td>\n",
       "      <td>...</td>\n",
       "      <td>...</td>\n",
       "    </tr>\n",
       "    <tr>\n",
       "      <th>251995</th>\n",
       "      <td>43</td>\n",
       "      <td>0</td>\n",
       "      <td>40</td>\n",
       "    </tr>\n",
       "    <tr>\n",
       "      <th>251996</th>\n",
       "      <td>26</td>\n",
       "      <td>0</td>\n",
       "      <td>20</td>\n",
       "    </tr>\n",
       "    <tr>\n",
       "      <th>251997</th>\n",
       "      <td>46</td>\n",
       "      <td>0</td>\n",
       "      <td>40</td>\n",
       "    </tr>\n",
       "    <tr>\n",
       "      <th>251998</th>\n",
       "      <td>45</td>\n",
       "      <td>0</td>\n",
       "      <td>40</td>\n",
       "    </tr>\n",
       "    <tr>\n",
       "      <th>251999</th>\n",
       "      <td>70</td>\n",
       "      <td>0</td>\n",
       "      <td>70</td>\n",
       "    </tr>\n",
       "  </tbody>\n",
       "</table>\n",
       "<p>252000 rows × 3 columns</p>\n",
       "</div>"
      ],
      "text/plain": [
       "        Age  Risk_Flag age_group\n",
       "0        23          0        20\n",
       "1        40          0        40\n",
       "2        66          0        60\n",
       "3        41          1        40\n",
       "4        47          1        40\n",
       "...     ...        ...       ...\n",
       "251995   43          0        40\n",
       "251996   26          0        20\n",
       "251997   46          0        40\n",
       "251998   45          0        40\n",
       "251999   70          0        70\n",
       "\n",
       "[252000 rows x 3 columns]"
      ]
     },
     "execution_count": 56,
     "metadata": {},
     "output_type": "execute_result"
    }
   ],
   "source": [
    "## Dividing age between groups of 10 years\n",
    "\n",
    "bins = [ten for ten in range(20,90,10)]\n",
    "age_groups = pd.cut(H1.Age, bins=bins, labels=bins[:-1], right=False)\n",
    "H1['age_group'] = age_groups\n",
    "H1"
   ]
  },
  {
   "cell_type": "code",
   "execution_count": 57,
   "metadata": {},
   "outputs": [
    {
     "data": {
      "text/html": [
       "<div>\n",
       "<style scoped>\n",
       "    .dataframe tbody tr th:only-of-type {\n",
       "        vertical-align: middle;\n",
       "    }\n",
       "\n",
       "    .dataframe tbody tr th {\n",
       "        vertical-align: top;\n",
       "    }\n",
       "\n",
       "    .dataframe thead th {\n",
       "        text-align: right;\n",
       "    }\n",
       "</style>\n",
       "<table border=\"1\" class=\"dataframe\">\n",
       "  <thead>\n",
       "    <tr style=\"text-align: right;\">\n",
       "      <th></th>\n",
       "      <th>age_group</th>\n",
       "      <th>risk</th>\n",
       "      <th>size</th>\n",
       "    </tr>\n",
       "  </thead>\n",
       "  <tbody>\n",
       "    <tr>\n",
       "      <th>0</th>\n",
       "      <td>20</td>\n",
       "      <td>0.146189</td>\n",
       "      <td>39189</td>\n",
       "    </tr>\n",
       "    <tr>\n",
       "      <th>1</th>\n",
       "      <td>30</td>\n",
       "      <td>0.122007</td>\n",
       "      <td>41727</td>\n",
       "    </tr>\n",
       "    <tr>\n",
       "      <th>2</th>\n",
       "      <td>40</td>\n",
       "      <td>0.117194</td>\n",
       "      <td>43108</td>\n",
       "    </tr>\n",
       "    <tr>\n",
       "      <th>3</th>\n",
       "      <td>50</td>\n",
       "      <td>0.120675</td>\n",
       "      <td>42660</td>\n",
       "    </tr>\n",
       "    <tr>\n",
       "      <th>4</th>\n",
       "      <td>60</td>\n",
       "      <td>0.115862</td>\n",
       "      <td>43569</td>\n",
       "    </tr>\n",
       "    <tr>\n",
       "      <th>5</th>\n",
       "      <td>70</td>\n",
       "      <td>0.118044</td>\n",
       "      <td>41747</td>\n",
       "    </tr>\n",
       "  </tbody>\n",
       "</table>\n",
       "</div>"
      ],
      "text/plain": [
       "  age_group      risk   size\n",
       "0        20  0.146189  39189\n",
       "1        30  0.122007  41727\n",
       "2        40  0.117194  43108\n",
       "3        50  0.120675  42660\n",
       "4        60  0.115862  43569\n",
       "5        70  0.118044  41747"
      ]
     },
     "execution_count": 57,
     "metadata": {},
     "output_type": "execute_result"
    }
   ],
   "source": [
    "risk_by_age_group = H1[['age_group','Risk_Flag']]\\\n",
    "    .groupby('age_group')\\\n",
    "        .agg({\"Risk_Flag\":'mean', \"age_group\":'size'})\\\n",
    "            .rename(columns={'Risk_Flag':'risk','age_group':'size'})\\\n",
    "                .reset_index()\\\n",
    "                    .sort_values('age_group')\n",
    "risk_by_age_group"
   ]
  },
  {
   "cell_type": "code",
   "execution_count": 58,
   "metadata": {},
   "outputs": [
    {
     "data": {
      "text/plain": [
       "[]"
      ]
     },
     "execution_count": 58,
     "metadata": {},
     "output_type": "execute_result"
    },
    {
     "data": {
      "image/png": "[encoded data removed]",
      "text/plain": [
       "<Figure size 432x288 with 1 Axes>"
      ]
     },
     "metadata": {},
     "output_type": "display_data"
    }
   ],
   "source": [
    "sns.set_theme()\n",
    "\n",
    "fig = sns.barplot(\n",
    "    x = risk_by_age_group.age_group,\n",
    "    y = 100*(risk_by_age_group.risk),\n",
    "    color = \"darkblue\"\n",
    ")\n",
    "\n",
    "fig.set(\n",
    "    xlabel='Age group of loan taker', \n",
    "    ylabel='Default by 100 cases', \n",
    "    title = \"Percent of default among loan taker by age group\")\n",
    "plt.plot()"
   ]
  },
  {
   "cell_type": "markdown",
   "metadata": {},
   "source": [
    "We can perform a proper hypothesis testing:"
   ]
  },
  {
   "cell_type": "code",
   "execution_count": 59,
   "metadata": {},
   "outputs": [],
   "source": [
    "# first we should divide data between the groups that interest us\n",
    "\n",
    "age_group_20 = H1[H1['age_group'] == 20]\n",
    "age_group_between_30_and_60 = H1[(H1['age_group'] >= 30) \\\n",
    "    & (H1['age_group'] < 60)]\n",
    "age_group_over_60 = H1[H1['age_group'] >= 60]"
   ]
  },
  {
   "cell_type": "code",
   "execution_count": 60,
   "metadata": {},
   "outputs": [],
   "source": [
    "# Sequence of Bernoulli trials can be approximated by normal distributions when sample is large\n",
    "\n",
    "age_group_20_desc = {\n",
    "    'mean':age_group_20['Risk_Flag'].mean(), \n",
    "    'var':(age_group_20['Risk_Flag'].mean())*(1 - age_group_20['Risk_Flag'].mean()),\n",
    "    'size':len(age_group_20)\n",
    "}\n",
    "\n",
    "age_group_between_30_and_60_desc = {\n",
    "    'mean':age_group_between_30_and_60['Risk_Flag'].mean(), \n",
    "    'var':(age_group_between_30_and_60['Risk_Flag'].mean())*\\\n",
    "        (1 - age_group_between_30_and_60['Risk_Flag'].mean()),\n",
    "    'size':len(age_group_between_30_and_60)\n",
    "}\n",
    "\n",
    "age_group_over_60_desc = {\n",
    "    'mean':age_group_over_60['Risk_Flag'].mean(), \n",
    "    'var':(age_group_over_60['Risk_Flag'].mean())*(1 - age_group_over_60['Risk_Flag'].mean()),\n",
    "    'size':len(age_group_over_60)\n",
    "}"
   ]
  },
  {
   "cell_type": "code",
   "execution_count": 61,
   "metadata": {},
   "outputs": [
    {
     "data": {
      "text/plain": [
       "39189"
      ]
     },
     "execution_count": 61,
     "metadata": {},
     "output_type": "execute_result"
    }
   ],
   "source": [
    "age_group_20_desc['size']"
   ]
  },
  {
   "cell_type": "markdown",
   "metadata": {},
   "source": [
    "*Method imported from https://www.statology.org/f-test-python/*"
   ]
  },
  {
   "cell_type": "code",
   "execution_count": 62,
   "metadata": {},
   "outputs": [],
   "source": [
    "#define F-test function\n",
    "def f_test(x, y):\n",
    "    f = x['var']/y['var'] #calculate F test statistic \n",
    "    dfn = x['size']-1 #define degrees of freedom numerator \n",
    "    dfd = y['size']-1 #define degrees of freedom denominator \n",
    "    p = 1-stats.f.cdf(f, dfn, dfd) #find p-value of F test statistic \n",
    "    return f, p"
   ]
  },
  {
   "cell_type": "code",
   "execution_count": 63,
   "metadata": {},
   "outputs": [
    {
     "data": {
      "text/plain": [
       "((1.1825471737507238, 1.1102230246251565e-16),\n",
       " (1.0222022582267043, 0.0002261788399537945))"
      ]
     },
     "execution_count": 63,
     "metadata": {},
     "output_type": "execute_result"
    }
   ],
   "source": [
    "f1 = f_test(age_group_20_desc, age_group_between_30_and_60_desc)\n",
    "f2 = f_test(age_group_between_30_and_60_desc, age_group_over_60_desc)\n",
    "\n",
    "(f1,f2)"
   ]
  },
  {
   "cell_type": "markdown",
   "metadata": {},
   "source": [
    "The p-value is very low for both cases, which allows us to say that the distributions have equal variance and we can perform a t-test."
   ]
  },
  {
   "cell_type": "code",
   "execution_count": 64,
   "metadata": {},
   "outputs": [],
   "source": [
    "normal1 = np.random.normal(loc=age_group_20_desc['mean'],\\\n",
    "     scale=np.sqrt(age_group_20_desc['var']),\\\n",
    "        size=(1000))\n",
    "\n",
    "normal2 = np.random.normal(loc=age_group_between_30_and_60_desc['mean'],\\\n",
    "     scale=np.sqrt(age_group_between_30_and_60_desc['var']),\\\n",
    "        size=(1000))\n",
    "\n",
    "normal3 = np.random.normal(loc=age_group_over_60_desc['mean'],\\\n",
    "     scale=np.sqrt(age_group_over_60_desc['var']),\\\n",
    "        size=(1000))\n"
   ]
  },
  {
   "cell_type": "code",
   "execution_count": 65,
   "metadata": {},
   "outputs": [
    {
     "data": {
      "text/plain": [
       "[]"
      ]
     },
     "execution_count": 65,
     "metadata": {},
     "output_type": "execute_result"
    },
    {
     "data": {
      "image/png": "[encoded data removed]",
      "text/plain": [
       "<Figure size 432x288 with 1 Axes>"
      ]
     },
     "metadata": {},
     "output_type": "display_data"
    }
   ],
   "source": [
    "fig, ax = plt.subplots()\n",
    "\n",
    "p1 = sns.distplot(normal1, hist=False)\n",
    "p2 = sns.distplot(normal2, hist=False)\n",
    "p3 = sns.distplot(normal3, hist=False)\n",
    "\n",
    "ax.set(xlabel='Risk of default', ylabel='PDF', title = \"Probability distribution of default for different groups\")\n",
    "plt.plot()"
   ]
  },
  {
   "cell_type": "code",
   "execution_count": 66,
   "metadata": {},
   "outputs": [
    {
     "name": "stdout",
     "output_type": "stream",
     "text": [
      "Ttest_indResult(statistic=0.8136572480049866, pvalue=0.4159382850172354) \n",
      " Ttest_indResult(statistic=1.598459009847091, pvalue=0.1100989778767241)\n"
     ]
    }
   ],
   "source": [
    "t1 = stats.ttest_ind(normal3, normal2)\n",
    "t2 = stats.ttest_ind(normal1, normal2)\n",
    "print(t1, \"\\n\", t2)"
   ]
  },
  {
   "cell_type": "markdown",
   "metadata": {},
   "source": [
    "The p-value is higher than the threshold of 0.05, therefore we cannot reject the null hypothesis that the risk is any different for different age groups."
   ]
  },
  {
   "cell_type": "markdown",
   "metadata": {},
   "source": [
    "** Hypothesis 1 is false. The risk is indeed higher in the group between 20 and 30 years old, but is quite similar among the other age groups, being slightly higher among peolle who are between 30 and 40 or between 50 and 60 years old.**"
   ]
  },
  {
   "cell_type": "markdown",
   "metadata": {},
   "source": [
    "Hypothesis 2: People who have more work experience have less risk"
   ]
  },
  {
   "cell_type": "code",
   "execution_count": 67,
   "metadata": {},
   "outputs": [],
   "source": [
    "H2 = train_data[['Experience', 'Risk_Flag']]"
   ]
  },
  {
   "cell_type": "code",
   "execution_count": 68,
   "metadata": {},
   "outputs": [],
   "source": [
    "H2_exp_risk = H2.groupby('Experience')\\\n",
    "    .agg(['size', 'mean'])\\\n",
    "        .reset_index()\\\n",
    "            .rename(columns = {'Risk_Flag':\"default risk\"})\\\n",
    "                .sort_values('Experience')"
   ]
  },
  {
   "cell_type": "code",
   "execution_count": 69,
   "metadata": {},
   "outputs": [
    {
     "data": {
      "text/plain": [
       "[]"
      ]
     },
     "execution_count": 69,
     "metadata": {},
     "output_type": "execute_result"
    },
    {
     "data": {
      "image/png": "[encoded data removed]",
      "text/plain": [
       "<Figure size 432x288 with 1 Axes>"
      ]
     },
     "metadata": {},
     "output_type": "display_data"
    }
   ],
   "source": [
    "fig, ax = plt.subplots()\n",
    "\n",
    "plot = sns.scatterplot(x = H2_exp_risk['Experience'],\\\n",
    "    y = H2_exp_risk['default risk']['mean'])\n",
    "\n",
    "ax.set(title = \"Default risk by years of experience\")\n",
    "plt.plot()"
   ]
  },
  {
   "cell_type": "markdown",
   "metadata": {},
   "source": [
    "We should also check the mean occurence of default by years of experience:"
   ]
  },
  {
   "cell_type": "code",
   "execution_count": 70,
   "metadata": {},
   "outputs": [
    {
     "data": {
      "text/plain": [
       "[]"
      ]
     },
     "execution_count": 70,
     "metadata": {},
     "output_type": "execute_result"
    },
    {
     "data": {
      "image/png": "[encoded data removed]",
      "text/plain": [
       "<Figure size 432x288 with 1 Axes>"
      ]
     },
     "metadata": {},
     "output_type": "display_data"
    }
   ],
   "source": [
    "fig, ax = plt.subplots()\n",
    "\n",
    "plot = sns.barplot(x = H2_exp_risk['Experience'],\\\n",
    "    y = H2_exp_risk['default risk']['size'],\n",
    "    color = \"darkblue\")\n",
    "\n",
    "ax.set(title = \"Number of observations by years of experience\")\n",
    "plt.plot()"
   ]
  },
  {
   "cell_type": "markdown",
   "metadata": {},
   "source": [
    "The distribution of observations by years of experience appears to be the same"
   ]
  },
  {
   "cell_type": "markdown",
   "metadata": {},
   "source": [
    "The risk appears to be lower as we see an increase in experience. We can test this further by performing a Pearson correlation test."
   ]
  },
  {
   "cell_type": "code",
   "execution_count": 71,
   "metadata": {},
   "outputs": [
    {
     "name": "stdout",
     "output_type": "stream",
     "text": [
      "Correlation coeficient = -0.5786837665345279 for a p-value of 0.005989081510197051\n"
     ]
    }
   ],
   "source": [
    "corr_test = stats.pearsonr(H2_exp_risk['Experience'], H2_exp_risk['default risk']['mean'])\n",
    "print(\"Correlation coeficient = {0} for a p-value of {1}\".format(corr_test[0], corr_test[1]))"
   ]
  },
  {
   "cell_type": "markdown",
   "metadata": {},
   "source": [
    "It is not a particularly strong correlation, but, as expected, we have a negative correlation which is closer to -1 than to 0 with a p-value < 0.05. **This means that we can accept hypothesis 2, but knowing that the correlation is not extremely strong**."
   ]
  },
  {
   "cell_type": "markdown",
   "metadata": {},
   "source": [
    "We could be running other hypothesis, but it appears that a combination of factors will better determine if our client will default or not, so we should explore the relationship that each independent variable has with our target variable."
   ]
  },
  {
   "cell_type": "markdown",
   "metadata": {},
   "source": [
    "#### Exploring relationships between variables:"
   ]
  },
  {
   "cell_type": "markdown",
   "metadata": {},
   "source": [
    "First, we should look at the numeric variables and how their values influence the distribution of defaulting individuals."
   ]
  },
  {
   "cell_type": "code",
   "execution_count": 72,
   "metadata": {},
   "outputs": [],
   "source": [
    "features = train_data.drop(['Id', 'Risk_Flag'], axis=1)\n",
    "target = train_data['Risk_Flag']\n",
    "numeric_train_data = features.select_dtypes(include=np.number)"
   ]
  },
  {
   "cell_type": "code",
   "execution_count": 73,
   "metadata": {},
   "outputs": [
    {
     "data": {
      "image/png": "[encoded data removed]",
      "text/plain": [
       "<Figure size 1296x720 with 6 Axes>"
      ]
     },
     "metadata": {},
     "output_type": "display_data"
    }
   ],
   "source": [
    "fig, ax = plt.subplots(nrows = 2, ncols = 3, figsize=(18, 10))\n",
    "\n",
    "fig.suptitle('Feature distribution by default outcome')\n",
    "\n",
    "row = 0\n",
    "col = 0\n",
    "for feature_number in range(0, len(numeric_train_data.columns)):\n",
    "    if (feature_number + 1) % 4 == 0:\n",
    "        row += 1\n",
    "        col = 0\n",
    "    sns.boxplot(\n",
    "        ax = ax[row, col], \n",
    "        data = train_data, \n",
    "        x = \"Risk_Flag\", \n",
    "        y = numeric_train_data.columns[feature_number]\n",
    "        )\n",
    "    col += 1"
   ]
  },
  {
   "cell_type": "code",
   "execution_count": 109,
   "metadata": {},
   "outputs": [
    {
     "data": {
      "text/html": [
       "<div>\n",
       "<style scoped>\n",
       "    .dataframe tbody tr th:only-of-type {\n",
       "        vertical-align: middle;\n",
       "    }\n",
       "\n",
       "    .dataframe tbody tr th {\n",
       "        vertical-align: top;\n",
       "    }\n",
       "\n",
       "    .dataframe thead th {\n",
       "        text-align: right;\n",
       "    }\n",
       "</style>\n",
       "<table border=\"1\" class=\"dataframe\">\n",
       "  <thead>\n",
       "    <tr style=\"text-align: right;\">\n",
       "      <th></th>\n",
       "      <th>Income</th>\n",
       "      <th>Age</th>\n",
       "      <th>Experience</th>\n",
       "      <th>CURRENT_JOB_YRS</th>\n",
       "      <th>CURRENT_HOUSE_YRS</th>\n",
       "    </tr>\n",
       "    <tr>\n",
       "      <th>Risk_Flag</th>\n",
       "      <th></th>\n",
       "      <th></th>\n",
       "      <th></th>\n",
       "      <th></th>\n",
       "      <th></th>\n",
       "    </tr>\n",
       "  </thead>\n",
       "  <tbody>\n",
       "    <tr>\n",
       "      <th>0</th>\n",
       "      <td>5.000449e+06</td>\n",
       "      <td>50.093442</td>\n",
       "      <td>10.162042</td>\n",
       "      <td>6.357016</td>\n",
       "      <td>12.000086</td>\n",
       "    </tr>\n",
       "    <tr>\n",
       "      <th>1</th>\n",
       "      <td>4.973359e+06</td>\n",
       "      <td>48.960350</td>\n",
       "      <td>9.531101</td>\n",
       "      <td>6.168893</td>\n",
       "      <td>11.981449</td>\n",
       "    </tr>\n",
       "  </tbody>\n",
       "</table>\n",
       "</div>"
      ],
      "text/plain": [
       "                 Income        Age  Experience  CURRENT_JOB_YRS  \\\n",
       "Risk_Flag                                                         \n",
       "0          5.000449e+06  50.093442   10.162042         6.357016   \n",
       "1          4.973359e+06  48.960350    9.531101         6.168893   \n",
       "\n",
       "           CURRENT_HOUSE_YRS  \n",
       "Risk_Flag                     \n",
       "0                  12.000086  \n",
       "1                  11.981449  "
      ]
     },
     "execution_count": 109,
     "metadata": {},
     "output_type": "execute_result"
    }
   ],
   "source": [
    "train_data.groupby('Risk_Flag').mean().drop('Id', axis=1)"
   ]
  },
  {
   "cell_type": "markdown",
   "metadata": {},
   "source": [
    "It appears that values are, in average, smaller for defaulting individuals. Distributions do not have a lot of outliers. The exception to this rule is CURRENT_HOUSE_YRS."
   ]
  },
  {
   "cell_type": "markdown",
   "metadata": {},
   "source": [
    "We should investigate possible correlation between numeric features"
   ]
  },
  {
   "cell_type": "code",
   "execution_count": 111,
   "metadata": {},
   "outputs": [
    {
     "data": {
      "text/plain": [
       "<AxesSubplot:>"
      ]
     },
     "execution_count": 111,
     "metadata": {},
     "output_type": "execute_result"
    },
    {
     "data": {
      "image/png": "[encoded data removed]",
      "text/plain": [
       "<Figure size 432x288 with 2 Axes>"
      ]
     },
     "metadata": {},
     "output_type": "display_data"
    }
   ],
   "source": [
    "num_corr_data = train_data.corr()\n",
    "sns.heatmap(num_corr_data)"
   ]
  },
  {
   "cell_type": "markdown",
   "metadata": {},
   "source": [
    "### Preparing data for modelling"
   ]
  },
  {
   "cell_type": "markdown",
   "metadata": {},
   "source": [
    "Dealing with data unbalancing"
   ]
  },
  {
   "cell_type": "code",
   "execution_count": 117,
   "metadata": {},
   "outputs": [
    {
     "data": {
      "text/plain": [
       "0    0.877\n",
       "1    0.123\n",
       "Name: Risk_Flag, dtype: float64"
      ]
     },
     "execution_count": 117,
     "metadata": {},
     "output_type": "execute_result"
    }
   ],
   "source": [
    "target = train_data['Risk_Flag']\n",
    "target.value_counts(normalize = True)"
   ]
  },
  {
   "cell_type": "code",
   "execution_count": 118,
   "metadata": {},
   "outputs": [
    {
     "data": {
      "text/plain": [
       "0    221004\n",
       "1     30996\n",
       "Name: Risk_Flag, dtype: int64"
      ]
     },
     "execution_count": 118,
     "metadata": {},
     "output_type": "execute_result"
    }
   ],
   "source": [
    "target.value_counts()"
   ]
  },
  {
   "cell_type": "markdown",
   "metadata": {},
   "source": [
    "Data is unbalanced. Since we have 30k observations on the samller class, we are safe to downsample."
   ]
  },
  {
   "cell_type": "markdown",
   "metadata": {},
   "source": []
  },
  {
   "cell_type": "code",
   "execution_count": 114,
   "metadata": {},
   "outputs": [],
   "source": [
    "X_train, X_test, y_train, y_test = train_test_split(\n",
    "    train_data.drop('Risk_Flag', axis=1),\n",
    "    train_data['Risk_Flag'], \n",
    "    test_size=0.33, \n",
    "    random_state=1\n",
    "    )"
   ]
  },
  {
   "cell_type": "code",
   "execution_count": null,
   "metadata": {},
   "outputs": [],
   "source": []
  }
 ],
 "metadata": {
  "kernelspec": {
   "display_name": "Python 3.9.7 ('base')",
   "language": "python",
   "name": "python3"
  },
  "language_info": {
   "codemirror_mode": {
    "name": "ipython",
    "version": 3
   },
   "file_extension": ".py",
   "mimetype": "text/x-python",
   "name": "python",
   "nbconvert_exporter": "python",
   "pygments_lexer": "ipython3",
   "version": "3.9.7"
  },
  "orig_nbformat": 4,
  "vscode": {
   "interpreter": {
    "hash": "351f092744d5f5af189c8329f86c15e2c412aa57ccd4f1dd027425a11a7f2f06"
   }
  }
 },
 "nbformat": 4,
 "nbformat_minor": 2
}
